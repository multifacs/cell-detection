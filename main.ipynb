{
 "cells": [
  {
   "cell_type": "code",
   "execution_count": 10,
   "metadata": {},
   "outputs": [],
   "source": [
    "# import the necessary packages\n",
    "import cv2\n",
    "\n",
    "IMAGE: str = \"./images/image1.jpg\"\n",
    "CONNECTIVITY: int = 4\n"
   ]
  },
  {
   "cell_type": "code",
   "execution_count": 11,
   "metadata": {},
   "outputs": [],
   "source": [
    "# load the input image from disk, convert it to grayscale, and\n",
    "# threshold it\n",
    "image = cv2.imread(IMAGE)\n",
    "gray = cv2.cvtColor(image, cv2.COLOR_BGR2GRAY)\n",
    "thresh = cv2.threshold(gray, 0, 255,\n",
    "                       cv2.THRESH_BINARY_INV | cv2.THRESH_OTSU)[1]\n"
   ]
  },
  {
   "cell_type": "code",
   "execution_count": 12,
   "metadata": {},
   "outputs": [],
   "source": [
    "# apply connected component analysis to the thresholded image\n",
    "output = cv2.connectedComponentsWithStats(\n",
    "    thresh, CONNECTIVITY, cv2.CV_32S)\n",
    "(numLabels, labels, stats, centroids) = output\n"
   ]
  },
  {
   "cell_type": "code",
   "execution_count": 13,
   "metadata": {},
   "outputs": [
    {
     "name": "stdout",
     "output_type": "stream",
     "text": [
      "[INFO] examining component 1/778 (background)\n"
     ]
    },
    {
     "ename": "KeyboardInterrupt",
     "evalue": "",
     "output_type": "error",
     "traceback": [
      "\u001b[1;31m---------------------------------------------------------------------------\u001b[0m",
      "\u001b[1;31mKeyboardInterrupt\u001b[0m                         Traceback (most recent call last)",
      "\u001b[1;32md:\\Programming\\Python\\cell-detection\\main.ipynb Cell 4\u001b[0m line \u001b[0;36m3\n\u001b[0;32m     <a href='vscode-notebook-cell:/d%3A/Programming/Python/cell-detection/main.ipynb#W4sZmlsZQ%3D%3D?line=35'>36</a>\u001b[0m cv2\u001b[39m.\u001b[39mimshow(\u001b[39m\"\u001b[39m\u001b[39mOutput\u001b[39m\u001b[39m\"\u001b[39m, output)\n\u001b[0;32m     <a href='vscode-notebook-cell:/d%3A/Programming/Python/cell-detection/main.ipynb#W4sZmlsZQ%3D%3D?line=36'>37</a>\u001b[0m cv2\u001b[39m.\u001b[39mimshow(\u001b[39m\"\u001b[39m\u001b[39mConnected Component\u001b[39m\u001b[39m\"\u001b[39m, componentMask)\n\u001b[1;32m---> <a href='vscode-notebook-cell:/d%3A/Programming/Python/cell-detection/main.ipynb#W4sZmlsZQ%3D%3D?line=37'>38</a>\u001b[0m cv2\u001b[39m.\u001b[39;49mwaitKey(\u001b[39m0\u001b[39;49m)\n",
      "\u001b[1;31mKeyboardInterrupt\u001b[0m: "
     ]
    }
   ],
   "source": [
    "# loop over the number of unique connected component labels\n",
    "for i in range(0, numLabels):\n",
    "    # if this is the first component then we examine the\n",
    "    # *background* (typically we would just ignore this\n",
    "    # component in our loop)\n",
    "    if i == 0:\n",
    "        text = \"examining component {}/{} (background)\".format(\n",
    "            i + 1, numLabels)\n",
    "    # otherwise, we are examining an actual connected component\n",
    "    else:\n",
    "        text = \"examining component {}/{}\".format(i + 1, numLabels)\n",
    "    # print a status message update for the current connected\n",
    "    # component\n",
    "    print(\"[INFO] {}\".format(text))\n",
    "    # extract the connected component statistics and centroid for\n",
    "    # the current label\n",
    "    x = stats[i, cv2.CC_STAT_LEFT]\n",
    "    y = stats[i, cv2.CC_STAT_TOP]\n",
    "    w = stats[i, cv2.CC_STAT_WIDTH]\n",
    "    h = stats[i, cv2.CC_STAT_HEIGHT]\n",
    "    area = stats[i, cv2.CC_STAT_AREA]\n",
    "    (cX, cY) = centroids[i]\n",
    "\n",
    "# clone our original image (so we can draw on it) and then draw\n",
    "    # a bounding box surrounding the connected component along with\n",
    "    # a circle corresponding to the centroid\n",
    "    output = image.copy()\n",
    "    cv2.rectangle(output, (x, y), (x + w, y + h), (0, 255, 0), 3)\n",
    "    cv2.circle(output, (int(cX), int(cY)), 4, (0, 0, 255), -1)\n",
    "\n",
    "# construct a mask for the current connected component by\n",
    "    # finding a pixels in the labels array that have the current\n",
    "    # connected component ID\n",
    "    componentMask = (labels == i).astype(\"uint8\") * 255\n",
    "    # show our output image and connected component mask\n",
    "    cv2.imshow(\"Output\", output)\n",
    "    cv2.imshow(\"Connected Component\", componentMask)\n",
    "    cv2.waitKey(0)\n"
   ]
  }
 ],
 "metadata": {
  "kernelspec": {
   "display_name": "Python 3",
   "language": "python",
   "name": "python3"
  },
  "language_info": {
   "codemirror_mode": {
    "name": "ipython",
    "version": 3
   },
   "file_extension": ".py",
   "mimetype": "text/x-python",
   "name": "python",
   "nbconvert_exporter": "python",
   "pygments_lexer": "ipython3",
   "version": "3.10.6"
  },
  "orig_nbformat": 4
 },
 "nbformat": 4,
 "nbformat_minor": 2
}
